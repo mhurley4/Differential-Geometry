{
 "cells": [
  {
   "cell_type": "code",
   "execution_count": 7,
   "metadata": {},
   "outputs": [],
   "source": [
    "import sympy as sp\n",
    "import mpmath\n",
    "import curvatures\n",
    "sp.init_printing()"
   ]
  },
  {
   "cell_type": "code",
   "execution_count": 2,
   "metadata": {},
   "outputs": [],
   "source": [
    "def tangent_vectors(x, u, v):\n",
    "    '''Computes tangent vectors of surface, returns x_u, x_v as tuple'''\n",
    "    xu = sp.simplify(sp.diff(x, u))\n",
    "    xv = sp.simplify(sp.diff(x, v))\n",
    "    return xu, xv\n",
    "\n",
    "def first_ff(x, u, v):\n",
    "    '''Computes first fundamental form of surface, returns E,F,G as tuple'''\n",
    "    xu, xv = tangent_vectors(x, u, v)\n",
    "    E = sp.simplify(xu.dot(xu))\n",
    "    F = sp.simplify(xu.dot(xv))\n",
    "    G = sp.simplify(xv.dot(xv))\n",
    "    return E, F, G"
   ]
  },
  {
   "cell_type": "code",
   "execution_count": 14,
   "metadata": {},
   "outputs": [],
   "source": [
    "u, v = sp.symbols('u v', real=True)"
   ]
  },
  {
   "cell_type": "code",
   "execution_count": 21,
   "metadata": {},
   "outputs": [
    {
     "name": "stdout",
     "output_type": "stream",
     "text": [
      "First fundamental form:\n"
     ]
    },
    {
     "data": {
      "image/png": "[encoded data removed]",
      "text/latex": [
       "$\\displaystyle E = \\frac{16}{\\left(u^{2} + v^{2} + 4\\right)^{2}}$"
      ],
      "text/plain": [
       "          16      \n",
       "E = ──────────────\n",
       "                 2\n",
       "    ⎛ 2    2    ⎞ \n",
       "    ⎝u  + v  + 4⎠ "
      ]
     },
     "metadata": {},
     "output_type": "display_data"
    },
    {
     "data": {
      "image/png": "[encoded data removed]",
      "text/latex": [
       "$\\displaystyle F = 0$"
      ],
      "text/plain": [
       "F = 0"
      ]
     },
     "metadata": {},
     "output_type": "display_data"
    },
    {
     "data": {
      "image/png": "[encoded data removed]",
      "text/latex": [
       "$\\displaystyle G = \\frac{16}{\\left(u^{2} + v^{2} + 4\\right)^{2}}$"
      ],
      "text/plain": [
       "          16      \n",
       "G = ──────────────\n",
       "                 2\n",
       "    ⎛ 2    2    ⎞ \n",
       "    ⎝u  + v  + 4⎠ "
      ]
     },
     "metadata": {},
     "output_type": "display_data"
    }
   ],
   "source": [
    "# Exercise 4.2.4: Inverse stereographic projection\n",
    "r = sp.symbols('r', real=True)\n",
    "x = sp.Matrix([(4*u)/(u**2+v**2+4), (4*v)/(u**2+v**2+4), 2*(u**2+v**2)/(u**2+v**2+4)])\n",
    "\n",
    "xu, xv = tangent_vectors(x, u, v)\n",
    "E, F, G = first_ff(x, u, v)\n",
    "E = sp.factor(E)\n",
    "G = sp.factor(G)\n",
    "\n",
    "symE = sp.symbols('E')\n",
    "symF = sp.symbols('F')\n",
    "symG = sp.symbols('G')\n",
    "print('First fundamental form:')\n",
    "display(sp.Eq(symE, E))\n",
    "display(sp.Eq(symF, F))\n",
    "display(sp.Eq(symG, G))"
   ]
  },
  {
   "cell_type": "code",
   "execution_count": 15,
   "metadata": {},
   "outputs": [
    {
     "name": "stdout",
     "output_type": "stream",
     "text": [
      "First fundamental form:\n"
     ]
    },
    {
     "data": {
      "image/png": "[encoded data removed]",
      "text/latex": [
       "$\\displaystyle E = r^{2} \\sin^{2}{\\left(v \\right)}$"
      ],
      "text/plain": [
       "     2    2   \n",
       "E = r ⋅sin (v)"
      ]
     },
     "metadata": {},
     "output_type": "display_data"
    },
    {
     "data": {
      "image/png": "[encoded data removed]",
      "text/latex": [
       "$\\displaystyle F = 0$"
      ],
      "text/plain": [
       "F = 0"
      ]
     },
     "metadata": {},
     "output_type": "display_data"
    },
    {
     "data": {
      "image/png": "[encoded data removed]",
      "text/latex": [
       "$\\displaystyle G = r^{2}$"
      ],
      "text/plain": [
       "     2\n",
       "G = r "
      ]
     },
     "metadata": {},
     "output_type": "display_data"
    }
   ],
   "source": [
    "# Exercise 4.2.19\n",
    "# Sphere\n",
    "r = sp.symbols('r', real=True)\n",
    "x = sp.Matrix([r*sp.sin(v)*sp.cos(u), r*sp.sin(v)*sp.sin(u), r*sp.cos(v)])\n",
    "\n",
    "xu, xv = tangent_vectors(x, u, v)\n",
    "E, F, G = first_ff(x, u, v)\n",
    "\n",
    "symE = sp.symbols('E')\n",
    "symF = sp.symbols('F')\n",
    "symG = sp.symbols('G')\n",
    "print('First fundamental form:')\n",
    "display(sp.Eq(symE, E))\n",
    "display(sp.Eq(symF, F))\n",
    "display(sp.Eq(symG, G))"
   ]
  },
  {
   "cell_type": "code",
   "execution_count": 20,
   "metadata": {},
   "outputs": [
    {
     "name": "stdout",
     "output_type": "stream",
     "text": [
      "First fundamental form:\n"
     ]
    },
    {
     "data": {
      "image/png": "[encoded data removed]",
      "text/latex": [
       "$\\displaystyle E = 1$"
      ],
      "text/plain": [
       "E = 1"
      ]
     },
     "metadata": {},
     "output_type": "display_data"
    },
    {
     "data": {
      "image/png": "[encoded data removed]",
      "text/latex": [
       "$\\displaystyle F = 0$"
      ],
      "text/plain": [
       "F = 0"
      ]
     },
     "metadata": {},
     "output_type": "display_data"
    },
    {
     "data": {
      "image/png": "[encoded data removed]",
      "text/latex": [
       "$\\displaystyle G = \\sin^{2}{\\left(v \\right)}$"
      ],
      "text/plain": [
       "       2   \n",
       "G = sin (v)"
      ]
     },
     "metadata": {},
     "output_type": "display_data"
    }
   ],
   "source": [
    "# Cylinder\n",
    "x = sp.Matrix([sp.cos(u), sp.sin(u), sp.cos(v)])\n",
    "\n",
    "xu, xv = tangent_vectors(x, u, v)\n",
    "E, F, G = first_ff(x, u, v)\n",
    "\n",
    "symE = sp.symbols('E')\n",
    "symF = sp.symbols('F')\n",
    "symG = sp.symbols('G')\n",
    "print('First fundamental form:')\n",
    "display(sp.Eq(symE, E))\n",
    "display(sp.Eq(symF, F))\n",
    "display(sp.Eq(symG, G))"
   ]
  },
  {
   "cell_type": "code",
   "execution_count": null,
   "metadata": {},
   "outputs": [],
   "source": []
  }
 ],
 "metadata": {
  "kernelspec": {
   "display_name": "Python 3",
   "language": "python",
   "name": "python3"
  },
  "language_info": {
   "codemirror_mode": {
    "name": "ipython",
    "version": 3
   },
   "file_extension": ".py",
   "mimetype": "text/x-python",
   "name": "python",
   "nbconvert_exporter": "python",
   "pygments_lexer": "ipython3",
   "version": "3.8.5"
  }
 },
 "nbformat": 4,
 "nbformat_minor": 4
}
