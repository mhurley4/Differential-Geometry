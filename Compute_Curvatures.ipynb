{
 "cells": [
  {
   "cell_type": "code",
   "execution_count": 1,
   "metadata": {},
   "outputs": [],
   "source": [
    "#Use help(curvatures) for information on various functions contained in curvatures module."
   ]
  },
  {
   "cell_type": "code",
   "execution_count": 2,
   "metadata": {},
   "outputs": [],
   "source": [
    "from sympy import *\n",
    "import mpmath\n",
    "import curvatures\n",
    "init_printing()"
   ]
  },
  {
   "cell_type": "code",
   "execution_count": 3,
   "metadata": {},
   "outputs": [],
   "source": [
    "u, v = symbols('u v', real=True)"
   ]
  },
  {
   "cell_type": "code",
   "execution_count": 4,
   "metadata": {
    "scrolled": true
   },
   "outputs": [
    {
     "name": "stdout",
     "output_type": "stream",
     "text": [
      "First fundamental form:\n"
     ]
    },
    {
     "data": {
      "image/png": "[encoded data removed]",
      "text/latex": [
       "$\\displaystyle E = \\cosh^{2}{\\left(v \\right)}$"
      ],
      "text/plain": [
       "        2   \n",
       "E = cosh (v)"
      ]
     },
     "metadata": {},
     "output_type": "display_data"
    },
    {
     "data": {
      "image/png": "[encoded data removed]",
      "text/latex": [
       "$\\displaystyle F = 0$"
      ],
      "text/plain": [
       "F = 0"
      ]
     },
     "metadata": {},
     "output_type": "display_data"
    },
    {
     "data": {
      "image/png": "[encoded data removed]",
      "text/latex": [
       "$\\displaystyle G = \\cosh^{2}{\\left(v \\right)}$"
      ],
      "text/plain": [
       "        2   \n",
       "G = cosh (v)"
      ]
     },
     "metadata": {},
     "output_type": "display_data"
    },
    {
     "name": "stdout",
     "output_type": "stream",
     "text": [
      "Second fundamental form:\n"
     ]
    },
    {
     "data": {
      "image/png": "[encoded data removed]",
      "text/latex": [
       "$\\displaystyle e = 0$"
      ],
      "text/plain": [
       "e = 0"
      ]
     },
     "metadata": {},
     "output_type": "display_data"
    },
    {
     "data": {
      "image/png": "[encoded data removed]",
      "text/latex": [
       "$\\displaystyle f = 1$"
      ],
      "text/plain": [
       "f = 1"
      ]
     },
     "metadata": {},
     "output_type": "display_data"
    },
    {
     "data": {
      "image/png": "[encoded data removed]",
      "text/latex": [
       "$\\displaystyle g = 0$"
      ],
      "text/plain": [
       "g = 0"
      ]
     },
     "metadata": {},
     "output_type": "display_data"
    },
    {
     "name": "stdout",
     "output_type": "stream",
     "text": [
      "Gaussian curvature:\n"
     ]
    },
    {
     "data": {
      "image/png": "[encoded data removed]",
      "text/latex": [
       "$\\displaystyle K = - \\frac{1}{\\cosh^{4}{\\left(v \\right)}}$"
      ],
      "text/plain": [
       "      -1    \n",
       "K = ────────\n",
       "        4   \n",
       "    cosh (v)"
      ]
     },
     "metadata": {},
     "output_type": "display_data"
    },
    {
     "name": "stdout",
     "output_type": "stream",
     "text": [
      "Mean curvature:\n"
     ]
    },
    {
     "data": {
      "image/png": "[encoded data removed]",
      "text/latex": [
       "$\\displaystyle H = 0$"
      ],
      "text/plain": [
       "H = 0"
      ]
     },
     "metadata": {},
     "output_type": "display_data"
    },
    {
     "name": "stdout",
     "output_type": "stream",
     "text": [
      "Principal curvatures:\n"
     ]
    },
    {
     "data": {
      "image/png": "[encoded data removed]",
      "text/latex": [
       "$\\displaystyle k_{1} = \\frac{1}{\\cosh^{2}{\\left(v \\right)}}$"
      ],
      "text/plain": [
       "        1    \n",
       "k₁ = ────────\n",
       "         2   \n",
       "     cosh (v)"
      ]
     },
     "metadata": {},
     "output_type": "display_data"
    },
    {
     "data": {
      "image/png": "[encoded data removed]",
      "text/latex": [
       "$\\displaystyle k_{2} = - \\frac{1}{\\cosh^{2}{\\left(v \\right)}}$"
      ],
      "text/plain": [
       "       -1    \n",
       "k₂ = ────────\n",
       "         2   \n",
       "     cosh (v)"
      ]
     },
     "metadata": {},
     "output_type": "display_data"
    }
   ],
   "source": [
    "# Helicoid\n",
    "x = Matrix([sinh(v)*cos(u), sinh(v)*sin(u), u])\n",
    "curvatures.compute_curvatures(x, u, v);"
   ]
  },
  {
   "cell_type": "code",
   "execution_count": 5,
   "metadata": {
    "scrolled": true
   },
   "outputs": [
    {
     "name": "stdout",
     "output_type": "stream",
     "text": [
      "First fundamental form:\n"
     ]
    },
    {
     "data": {
      "image/png": "[encoded data removed]",
      "text/latex": [
       "$\\displaystyle E = v^{2} + 1$"
      ],
      "text/plain": [
       "     2    \n",
       "E = v  + 1"
      ]
     },
     "metadata": {},
     "output_type": "display_data"
    },
    {
     "data": {
      "image/png": "[encoded data removed]",
      "text/latex": [
       "$\\displaystyle F = 0$"
      ],
      "text/plain": [
       "F = 0"
      ]
     },
     "metadata": {},
     "output_type": "display_data"
    },
    {
     "data": {
      "image/png": "[encoded data removed]",
      "text/latex": [
       "$\\displaystyle G = 1$"
      ],
      "text/plain": [
       "G = 1"
      ]
     },
     "metadata": {},
     "output_type": "display_data"
    },
    {
     "name": "stdout",
     "output_type": "stream",
     "text": [
      "Second fundamental form:\n"
     ]
    },
    {
     "data": {
      "image/png": "[encoded data removed]",
      "text/latex": [
       "$\\displaystyle e = 0$"
      ],
      "text/plain": [
       "e = 0"
      ]
     },
     "metadata": {},
     "output_type": "display_data"
    },
    {
     "data": {
      "image/png": "[encoded data removed]",
      "text/latex": [
       "$\\displaystyle f = \\frac{1}{\\sqrt{v^{2} + 1}}$"
      ],
      "text/plain": [
       "         1     \n",
       "f = ───────────\n",
       "       ________\n",
       "      ╱  2     \n",
       "    ╲╱  v  + 1 "
      ]
     },
     "metadata": {},
     "output_type": "display_data"
    },
    {
     "data": {
      "image/png": "[encoded data removed]",
      "text/latex": [
       "$\\displaystyle g = 0$"
      ],
      "text/plain": [
       "g = 0"
      ]
     },
     "metadata": {},
     "output_type": "display_data"
    },
    {
     "name": "stdout",
     "output_type": "stream",
     "text": [
      "Gaussian curvature:\n"
     ]
    },
    {
     "data": {
      "image/png": "[encoded data removed]",
      "text/latex": [
       "$\\displaystyle K = - \\frac{1}{\\left(v^{2} + 1\\right)^{2}}$"
      ],
      "text/plain": [
       "       -1    \n",
       "K = ─────────\n",
       "            2\n",
       "    ⎛ 2    ⎞ \n",
       "    ⎝v  + 1⎠ "
      ]
     },
     "metadata": {},
     "output_type": "display_data"
    },
    {
     "name": "stdout",
     "output_type": "stream",
     "text": [
      "Mean curvature:\n"
     ]
    },
    {
     "data": {
      "image/png": "[encoded data removed]",
      "text/latex": [
       "$\\displaystyle H = 0$"
      ],
      "text/plain": [
       "H = 0"
      ]
     },
     "metadata": {},
     "output_type": "display_data"
    },
    {
     "name": "stdout",
     "output_type": "stream",
     "text": [
      "Principal curvatures:\n"
     ]
    },
    {
     "data": {
      "image/png": "[encoded data removed]",
      "text/latex": [
       "$\\displaystyle k_{1} = \\frac{1}{v^{2} + 1}$"
      ],
      "text/plain": [
       "       1   \n",
       "k₁ = ──────\n",
       "      2    \n",
       "     v  + 1"
      ]
     },
     "metadata": {},
     "output_type": "display_data"
    },
    {
     "data": {
      "image/png": "[encoded data removed]",
      "text/latex": [
       "$\\displaystyle k_{2} = - \\frac{1}{v^{2} + 1}$"
      ],
      "text/plain": [
       "      -1   \n",
       "k₂ = ──────\n",
       "      2    \n",
       "     v  + 1"
      ]
     },
     "metadata": {},
     "output_type": "display_data"
    }
   ],
   "source": [
    "# Another helicoid\n",
    "x = Matrix([v*cos(u), v*sin(u), u])\n",
    "curvatures.compute_curvatures(x, u, v);"
   ]
  },
  {
   "cell_type": "code",
   "execution_count": 6,
   "metadata": {},
   "outputs": [
    {
     "name": "stdout",
     "output_type": "stream",
     "text": [
      "First fundamental form:\n"
     ]
    },
    {
     "data": {
      "image/png": "[encoded data removed]",
      "text/latex": [
       "$\\displaystyle E = r^{2} \\sin^{2}{\\left(v \\right)}$"
      ],
      "text/plain": [
       "     2    2   \n",
       "E = r ⋅sin (v)"
      ]
     },
     "metadata": {},
     "output_type": "display_data"
    },
    {
     "data": {
      "image/png": "[encoded data removed]",
      "text/latex": [
       "$\\displaystyle F = 0$"
      ],
      "text/plain": [
       "F = 0"
      ]
     },
     "metadata": {},
     "output_type": "display_data"
    },
    {
     "data": {
      "image/png": "[encoded data removed]",
      "text/latex": [
       "$\\displaystyle G = r^{2}$"
      ],
      "text/plain": [
       "     2\n",
       "G = r "
      ]
     },
     "metadata": {},
     "output_type": "display_data"
    },
    {
     "name": "stdout",
     "output_type": "stream",
     "text": [
      "Second fundamental form:\n"
     ]
    },
    {
     "data": {
      "image/png": "[encoded data removed]",
      "text/latex": [
       "$\\displaystyle e = \\frac{r \\sin^{3}{\\left(v \\right)}}{\\left|{\\sin{\\left(v \\right)}}\\right|}$"
      ],
      "text/plain": [
       "         3   \n",
       "    r⋅sin (v)\n",
       "e = ─────────\n",
       "     │sin(v)│"
      ]
     },
     "metadata": {},
     "output_type": "display_data"
    },
    {
     "data": {
      "image/png": "[encoded data removed]",
      "text/latex": [
       "$\\displaystyle f = 0$"
      ],
      "text/plain": [
       "f = 0"
      ]
     },
     "metadata": {},
     "output_type": "display_data"
    },
    {
     "data": {
      "image/png": "[encoded data removed]",
      "text/latex": [
       "$\\displaystyle g = \\frac{r \\sin{\\left(v \\right)}}{\\left|{\\sin{\\left(v \\right)}}\\right|}$"
      ],
      "text/plain": [
       "    r⋅sin(v)\n",
       "g = ────────\n",
       "    │sin(v)│"
      ]
     },
     "metadata": {},
     "output_type": "display_data"
    },
    {
     "name": "stdout",
     "output_type": "stream",
     "text": [
      "Gaussian curvature:\n"
     ]
    },
    {
     "data": {
      "image/png": "[encoded data removed]",
      "text/latex": [
       "$\\displaystyle K = \\frac{1}{r^{2}}$"
      ],
      "text/plain": [
       "    1 \n",
       "K = ──\n",
       "     2\n",
       "    r "
      ]
     },
     "metadata": {},
     "output_type": "display_data"
    },
    {
     "name": "stdout",
     "output_type": "stream",
     "text": [
      "Mean curvature:\n"
     ]
    },
    {
     "data": {
      "image/png": "[encoded data removed]",
      "text/latex": [
       "$\\displaystyle H = \\frac{\\sin{\\left(v \\right)}}{r \\left|{\\sin{\\left(v \\right)}}\\right|}$"
      ],
      "text/plain": [
       "      sin(v)  \n",
       "H = ──────────\n",
       "    r⋅│sin(v)│"
      ]
     },
     "metadata": {},
     "output_type": "display_data"
    },
    {
     "name": "stdout",
     "output_type": "stream",
     "text": [
      "Principal curvatures:\n"
     ]
    },
    {
     "data": {
      "image/png": "[encoded data removed]",
      "text/latex": [
       "$\\displaystyle k_{1} = k_{2} = \\frac{\\sin{\\left(v \\right)}}{r \\left|{\\sin{\\left(v \\right)}}\\right|}$"
      ],
      "text/plain": [
       "            sin(v)  \n",
       "k₁ = k₂ = ──────────\n",
       "          r⋅│sin(v)│"
      ]
     },
     "metadata": {},
     "output_type": "display_data"
    }
   ],
   "source": [
    "# Sphere of radius r\n",
    "# No good way to specify range for v (0 to pi); hence expressions don't simplify completely\n",
    "r = symbols('r', real=True)\n",
    "x = Matrix([r*sin(v)*cos(u), r*sin(v)*sin(u), r*cos(v)])\n",
    "curvatures.compute_curvatures(x, u, v);"
   ]
  },
  {
   "cell_type": "code",
   "execution_count": null,
   "metadata": {},
   "outputs": [],
   "source": []
  }
 ],
 "metadata": {
  "kernelspec": {
   "display_name": "Python 3",
   "language": "python",
   "name": "python3"
  },
  "language_info": {
   "codemirror_mode": {
    "name": "ipython",
    "version": 3
   },
   "file_extension": ".py",
   "mimetype": "text/x-python",
   "name": "python",
   "nbconvert_exporter": "python",
   "pygments_lexer": "ipython3",
   "version": "3.8.5"
  }
 },
 "nbformat": 4,
 "nbformat_minor": 4
}
